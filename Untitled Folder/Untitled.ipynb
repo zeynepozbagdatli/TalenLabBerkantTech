{
 "cells": [
  {
   "cell_type": "markdown",
   "id": "ed541bea",
   "metadata": {},
   "source": [
    "### Soru:1 Aşağıdaki Matrisi Oluşturunuz"
   ]
  },
  {
   "cell_type": "code",
   "execution_count": 12,
   "id": "38adaef7",
   "metadata": {},
   "outputs": [],
   "source": [
    "import numpy as np"
   ]
  },
  {
   "cell_type": "code",
   "execution_count": 9,
   "id": "9cdb15bb",
   "metadata": {},
   "outputs": [],
   "source": [
    "aylik_ort_login = ['0-10 Login', '10-100 Login', '100+ Login']\n",
    "aylik_ort_ilan = ['0-5 Ilan', '5-10 Ilan', '10+ Ilan']\n",
    "data = [[15, 10, 5], [25, 15, 10], [40, 20, 10]]"
   ]
  },
  {
   "cell_type": "code",
   "execution_count": 10,
   "id": "008adfa9",
   "metadata": {},
   "outputs": [],
   "source": [
    "matris = np.array(data)\n",
    "matris = np.vstack((aylik_ort_ilan, matris))\n",
    "aylik_ort_login.append('')\n",
    "matris = np.column_stack((aylik_ort_login, matris))"
   ]
  },
  {
   "cell_type": "code",
   "execution_count": 11,
   "id": "552a674c",
   "metadata": {},
   "outputs": [
    {
     "name": "stdout",
     "output_type": "stream",
     "text": [
      "[['0-10 Login' '0-5 Ilan' '5-10 Ilan' '10+ Ilan']\n",
      " ['10-100 Login' '15' '10' '5']\n",
      " ['100+ Login' '25' '15' '10']\n",
      " ['' '40' '20' '10']]\n"
     ]
    }
   ],
   "source": [
    "print(matris)"
   ]
  },
  {
   "cell_type": "code",
   "execution_count": null,
   "id": "15f45062",
   "metadata": {},
   "outputs": [],
   "source": []
  },
  {
   "attachments": {},
   "cell_type": "markdown",
   "id": "ab0d434d",
   "metadata": {},
   "source": [
    "### Soru:2\tLogin sıklığı ile ilan yayınlama sıklığı arasında korelasyon var mıdır?\t\t\t\t\t"
   ]
  },
  {
   "cell_type": "code",
   "execution_count": null,
   "id": "a48f7605",
   "metadata": {},
   "outputs": [],
   "source": [
    "Durumdan duruma değişkenlik göstermek üzere aralarında korelasyon oladabilir olmayadabilir."
   ]
  },
  {
   "cell_type": "markdown",
   "id": "c5624769",
   "metadata": {},
   "source": [
    "### Soru:3 Sözleşme yenileme dönemine göre hangi firmaların yenileme oranı yüksektir? Bir Churn modeli geliştiriniz.\n"
   ]
  },
  {
   "cell_type": "code",
   "execution_count": null,
   "id": "bf9cb8a7",
   "metadata": {},
   "outputs": [],
   "source": [
    "Bu konuda kendimi geliştirmekteyim, yapabilecek kadar ilerlemedim."
   ]
  }
 ],
 "metadata": {
  "kernelspec": {
   "display_name": "Python 3 (ipykernel)",
   "language": "python",
   "name": "python3"
  },
  "language_info": {
   "codemirror_mode": {
    "name": "ipython",
    "version": 3
   },
   "file_extension": ".py",
   "mimetype": "text/x-python",
   "name": "python",
   "nbconvert_exporter": "python",
   "pygments_lexer": "ipython3",
   "version": "3.9.13"
  }
 },
 "nbformat": 4,
 "nbformat_minor": 5
}
